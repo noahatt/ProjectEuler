{
 "cells": [
  {
   "cell_type": "markdown",
   "metadata": {},
   "source": [
    "## All solutions compiled"
   ]
  },
  {
   "cell_type": "code",
   "execution_count": 1,
   "metadata": {},
   "outputs": [],
   "source": [
    "//Load utils\n",
    "system\"l \",getenv[`NOAHGITPE],\"utils.q\""
   ]
  },
  {
   "cell_type": "markdown",
   "metadata": {},
   "source": [
    "Q1 Multiples of 3 and 5\n",
    "https://projecteuler.net/problem=1"
   ]
  },
  {
   "cell_type": "code",
   "execution_count": 2,
   "metadata": {},
   "outputs": [
    {
     "data": {
      "text/plain": [
       "233168\n"
      ]
     },
     "execution_count": 2,
     "metadata": {},
     "output_type": "execute_result"
    }
   ],
   "source": [
    "sum where not {min x mod 3 5} each til 1000"
   ]
  },
  {
   "cell_type": "markdown",
   "metadata": {},
   "source": [
    "Q2 Even Fibonacci numbers https://projecteuler.net/problem=2"
   ]
  },
  {
   "cell_type": "code",
   "execution_count": 3,
   "metadata": {},
   "outputs": [
    {
     "data": {
      "text/plain": [
       "4613732\n"
      ]
     },
     "execution_count": 3,
     "metadata": {},
     "output_type": "execute_result"
    }
   ],
   "source": [
    "sum a where 0=mod[;2]a:-1_{4e6>last x}{x,sum -2#x}/1 1"
   ]
  },
  {
   "cell_type": "markdown",
   "metadata": {},
   "source": [
    "Q3 Largest prime factor https://projecteuler.net/problem=3"
   ]
  },
  {
   "cell_type": "code",
   "execution_count": 4,
   "metadata": {},
   "outputs": [
    {
     "data": {
      "text/plain": [
       "6857\n"
      ]
     },
     "execution_count": 4,
     "metadata": {},
     "output_type": "execute_result"
    }
   ],
   "source": [
    "max primeFactors 600851475143"
   ]
  },
  {
   "cell_type": "markdown",
   "metadata": {},
   "source": [
    "Q4 Largest palindrome product https://projecteuler.net/problem=4"
   ]
  },
  {
   "cell_type": "code",
   "execution_count": 5,
   "metadata": {},
   "outputs": [
    {
     "data": {
      "text/plain": [
       "906609\n"
      ]
     },
     "execution_count": 5,
     "metadata": {},
     "output_type": "execute_result"
    }
   ],
   "source": [
    "max \"J\"$a where (reverse each a)~'a:($)(*).'a cross a:100+til 900"
   ]
  },
  {
   "cell_type": "markdown",
   "metadata": {},
   "source": [
    "Q5 Smallest multiple https://projecteuler.net/problem=5"
   ]
  },
  {
   "cell_type": "code",
   "execution_count": 6,
   "metadata": {},
   "outputs": [
    {
     "data": {
      "text/plain": [
       "232792560\n"
      ]
     },
     "execution_count": 6,
     "metadata": {},
     "output_type": "execute_result"
    }
   ],
   "source": [
    "{sum x mod 1+til 20}{x+a}/a:prd 1+where isPrime each 1+til 20"
   ]
  },
  {
   "cell_type": "markdown",
   "metadata": {},
   "source": [
    "Q6 Sum square difference https://projecteuler.net/problem=6"
   ]
  },
  {
   "cell_type": "code",
   "execution_count": 7,
   "metadata": {},
   "outputs": [
    {
     "data": {
      "text/plain": [
       "25164150\n"
      ]
     },
     "execution_count": 7,
     "metadata": {},
     "output_type": "execute_result"
    }
   ],
   "source": [
    "\"j\"$xexp[sum a;2]-sum xexp[;2]a:1+til 100"
   ]
  },
  {
   "cell_type": "markdown",
   "metadata": {},
   "source": [
    "Q7 10001st prime https://projecteuler.net/problem=7"
   ]
  },
  {
   "cell_type": "code",
   "execution_count": 8,
   "metadata": {},
   "outputs": [
    {
     "data": {
      "text/plain": [
       "104743\n"
      ]
     },
     "execution_count": 8,
     "metadata": {},
     "output_type": "execute_result"
    }
   ],
   "source": [
    "10000 nextPrime/2"
   ]
  },
  {
   "cell_type": "markdown",
   "metadata": {},
   "source": [
    "Q8 Largest product in a series https://projecteuler.net/problem=8"
   ]
  },
  {
   "cell_type": "code",
   "execution_count": 9,
   "metadata": {},
   "outputs": [
    {
     "data": {
      "text/plain": [
       "23514624000\n"
      ]
     },
     "execution_count": 9,
     "metadata": {},
     "output_type": "execute_result"
    }
   ],
   "source": [
    "max {prd \"J\"$enlist each a[x+til 13]} each til -13+count a:\"7316717653133062491922511967442657474235534919493496983520312774506326239578318016984801869478851843858615607891129494954595017379583319528532088055111254069874715852386305071569329096329522744304355766896648950445244523161731856403098711121722383113622298934233803081353362766142828064444866452387493035890729629049156044077239071381051585930796086670172427121883998797908792274921901699720888093776657273330010533678812202354218097512545405947522435258490771167055601360483958644670632441572215539753697817977846174064955149290862569321978468622482839722413756570560574902614079729686524145351004748216637048440319989000889524345065854122758866688116427171479924442928230863465674813919123162824586178664583591245665294765456828489128831426076900422421902267105562632111110937054421750694165896040807198403850962455444362981230987879927244284909188845801561660979191338754992005240636899125607176060588611646710940507754100225698315520005593572972571636269561882670428252483600823257530420752963450\""
   ]
  },
  {
   "cell_type": "markdown",
   "metadata": {},
   "source": [
    "Q9 Special Pythagorean triplet https://projecteuler.net/problem=9"
   ]
  },
  {
   "cell_type": "code",
   "execution_count": 10,
   "metadata": {},
   "outputs": [
    {
     "data": {
      "text/plain": [
       "31875000\n"
      ]
     },
     "execution_count": 10,
     "metadata": {},
     "output_type": "execute_result"
    }
   ],
   "source": [
    "\"j\"$prd a,1000-sum a@:where a=floor a@:where 0<a:{(500%(x-1000))*-1000+2*x} 1+til 1000"
   ]
  },
  {
   "cell_type": "markdown",
   "metadata": {},
   "source": [
    "Q10 Summation of primes https://projecteuler.net/problem=10"
   ]
  },
  {
   "cell_type": "code",
   "execution_count": 11,
   "metadata": {},
   "outputs": [
    {
     "data": {
      "text/plain": [
       "142913828922\n"
      ]
     },
     "execution_count": 11,
     "metadata": {},
     "output_type": "execute_result"
    }
   ],
   "source": [
    "sum a where isPrime each a:2,1_1+2*til 1000000"
   ]
  },
  {
   "cell_type": "markdown",
   "metadata": {},
   "source": [
    "Q11 Largest product in a grid https://projecteuler.net/problem=11"
   ]
  },
  {
   "cell_type": "code",
   "execution_count": 12,
   "metadata": {},
   "outputs": [
    {
     "data": {
      "text/plain": [
       "70600674\n"
      ]
     },
     "execution_count": 12,
     "metadata": {},
     "output_type": "execute_result"
    }
   ],
   "source": [
    "l:20 cut 08 02 22 97 38 15 00 40 00 75 04 05 07 78 52 12 50 77 91 08 49 49 99 40 17 81 18 57 60 87 17 40 98 43 69 48 04 56 62 00 81 49 31 73 55 79 14 29 93 71 40 67 53 88 30 03 49 13 36 65 52 70 95 23 04 60 11 42 69 24 68 56 01 32 56 71 37 02 36 91 22 31 16 71 51 67 63 89 41 92 36 54 22 40 40 28 66 33 13 80 24 47 32 60 99 03 45 02 44 75 33 53 78 36 84 20 35 17 12 50 32 98 81 28 64 23 67 10 26 38 40 67 59 54 70 66 18 38 64 70 67 26 20 68 02 62 12 20 95 63 94 39 63 08 40 91 66 49 94 21 24 55 58 05 66 73 99 26 97 17 78 78 96 83 14 88 34 89 63 72 21 36 23 09 75 00 76 44 20 45 35 14 00 61 33 97 34 31 33 95 78 17 53 28 22 75 31 67 15 94 03 80 04 62 16 14 09 53 56 92 16 39 05 42 96 35 31 47 55 58 88 24 00 17 54 24 36 29 85 57 86 56 00 48 35 71 89 07 05 44 44 37 44 60 21 58 51 54 17 58 19 80 81 68 05 94 47 69 28 73 92 13 86 52 17 77 04 89 55 40 04 52 08 83 97 35 99 16 07 97 57 32 16 26 26 79 33 27 98 66 88 36 68 87 57 62 20 72 03 46 33 67 46 55 12 32 63 93 53 69 04 42 16 73 38 25 39 11 24 94 72 18 08 46 29 32 40 62 76 36 20 69 36 41 72 30 23 88 34 62 99 69 82 67 59 85 74 04 36 16 20 73 35 29 78 31 90 01 74 31 49 71 48 86 81 16 23 57 05 54 01 70 54 71 83 51 54 69 16 92 33 48 61 43 52 01 89 19 67 48;\n",
    "max prd flip (l,'zs,'l,'reverse zs,'flip[l],'reverse[zs],'flip[l],' zs:19 {x,0}\\0) ./:(enlist each til[17]+\\:til 4) cross til 122"
   ]
  },
  {
   "cell_type": "markdown",
   "metadata": {},
   "source": [
    "Q12 Highly divisible triangular number https://projecteuler.net/problem=12"
   ]
  },
  {
   "cell_type": "code",
   "execution_count": 13,
   "metadata": {},
   "outputs": [
    {
     "data": {
      "text/plain": [
       "76576500\n"
      ]
     },
     "execution_count": 13,
     "metadata": {},
     "output_type": "execute_result"
    }
   ],
   "source": [
    "first {500>count factors first x}{(first[x]+last x;1+last x)}/(1;2)"
   ]
  },
  {
   "cell_type": "markdown",
   "metadata": {},
   "source": [
    "Q13 Large sum https://projecteuler.net/problem=13"
   ]
  },
  {
   "cell_type": "code",
   "execution_count": 14,
   "metadata": {},
   "outputs": [
    {
     "data": {
      "text/plain": [
       "5537376230\n"
      ]
     },
     "execution_count": 14,
     "metadata": {},
     "output_type": "execute_result"
    }
   ],
   "source": [
    "a:enlist each \"37107287533902102798797998220837590246510135740250;46376937677490009712648124896970078050417018260538;74324986199524741059474233309513058123726617309629;91942213363574161572522430563301811072406154908250;23067588207539346171171980310421047513778063246676;89261670696623633820136378418383684178734361726757;28112879812849979408065481931592621691275889832738;44274228917432520321923589422876796487670272189318;47451445736001306439091167216856844588711603153276;70386486105843025439939619828917593665686757934951;62176457141856560629502157223196586755079324193331;64906352462741904929101432445813822663347944758178;92575867718337217661963751590579239728245598838407;58203565325359399008402633568948830189458628227828;80181199384826282014278194139940567587151170094390;35398664372827112653829987240784473053190104293586;86515506006295864861532075273371959191420517255829;71693888707715466499115593487603532921714970056938;54370070576826684624621495650076471787294438377604;53282654108756828443191190634694037855217779295145;36123272525000296071075082563815656710885258350721;45876576172410976447339110607218265236877223636045;17423706905851860660448207621209813287860733969412;81142660418086830619328460811191061556940512689692;51934325451728388641918047049293215058642563049483;62467221648435076201727918039944693004732956340691;15732444386908125794514089057706229429197107928209;55037687525678773091862540744969844508330393682126;18336384825330154686196124348767681297534375946515;80386287592878490201521685554828717201219257766954;78182833757993103614740356856449095527097864797581;16726320100436897842553539920931837441497806860984;48403098129077791799088218795327364475675590848030;87086987551392711854517078544161852424320693150332;59959406895756536782107074926966537676326235447210;69793950679652694742597709739166693763042633987085;41052684708299085211399427365734116182760315001271;65378607361501080857009149939512557028198746004375;35829035317434717326932123578154982629742552737307;94953759765105305946966067683156574377167401875275;88902802571733229619176668713819931811048770190271;25267680276078003013678680992525463401061632866526;36270218540497705585629946580636237993140746255962;24074486908231174977792365466257246923322810917141;91430288197103288597806669760892938638285025333403;34413065578016127815921815005561868836468420090470;23053081172816430487623791969842487255036638784583;11487696932154902810424020138335124462181441773470;63783299490636259666498587618221225225512486764533;67720186971698544312419572409913959008952310058822;95548255300263520781532296796249481641953868218774;76085327132285723110424803456124867697064507995236;37774242535411291684276865538926205024910326572967;23701913275725675285653248258265463092207058596522;29798860272258331913126375147341994889534765745501;18495701454879288984856827726077713721403798879715;38298203783031473527721580348144513491373226651381;34829543829199918180278916522431027392251122869539;40957953066405232632538044100059654939159879593635;29746152185502371307642255121183693803580388584903;41698116222072977186158236678424689157993532961922;62467957194401269043877107275048102390895523597457;23189706772547915061505504953922979530901129967519;86188088225875314529584099251203829009407770775672;11306739708304724483816533873502340845647058077308;82959174767140363198008187129011875491310547126581;97623331044818386269515456334926366572897563400500;42846280183517070527831839425882145521227251250327;55121603546981200581762165212827652751691296897789;32238195734329339946437501907836945765883352399886;75506164965184775180738168837861091527357929701337;62177842752192623401942399639168044983993173312731;32924185707147349566916674687634660915035914677504;99518671430235219628894890102423325116913619626622;73267460800591547471830798392868535206946944540724;76841822524674417161514036427982273348055556214818;97142617910342598647204516893989422179826088076852;87783646182799346313767754307809363333018982642090;10848802521674670883215120185883543223812876952786;71329612474782464538636993009049310363619763878039;62184073572399794223406235393808339651327408011116;66627891981488087797941876876144230030984490851411;60661826293682836764744779239180335110989069790714;85786944089552990653640447425576083659976645795096;66024396409905389607120198219976047599490197230297;64913982680032973156037120041377903785566085089252;16730939319872750275468906903707539413042652315011;94809377245048795150954100921645863754710598436791;78639167021187492431995700641917969777599028300699;15368713711936614952811305876380278410754449733078;40789923115535562561142322423255033685442488917353;44889911501440648020369068063960672322193204149535;41503128880339536053299340368006977710650566631954;81234880673210146739058568557934581403627822703280;82616570773948327592232845941706525094512325230608;22918802058777319719839450180888072429661980811197;77158542502016545090413245809786882778948721859617;72107838435069186155435662884062257473692284509516;20849603980134001723930671666823555245252804609722;53503534226472524250874054075591789781264330331690\"\n",
    "\"J\"$(string sum \"J\"$\"C\"$a til[12]+/:51*til 100)til 10"
   ]
  },
  {
   "cell_type": "markdown",
   "metadata": {},
   "source": [
    "Q14 Longest Collatz sequence https://projecteuler.net/problem=14"
   ]
  },
  {
   "cell_type": "code",
   "execution_count": 15,
   "metadata": {},
   "outputs": [
    {
     "data": {
      "text/plain": [
       "837799\n"
      ]
     },
     "execution_count": 15,
     "metadata": {},
     "output_type": "execute_result"
    }
   ],
   "source": [
    "///correct but takes about 90 seconds, look to improve\n",
    "a b?max b:{count {x>1}{$[x mod 2;1+3*x;\"j\"$0.5*x]}\\x} each a:1+2*til 500000"
   ]
  },
  {
   "cell_type": "markdown",
   "metadata": {},
   "source": [
    "Q15 Lattice paths https://projecteuler.net/problem=15"
   ]
  },
  {
   "cell_type": "code",
   "execution_count": 16,
   "metadata": {},
   "outputs": [
    {
     "data": {
      "text/plain": [
       "137846528820\n"
      ]
     },
     "execution_count": 16,
     "metadata": {},
     "output_type": "execute_result"
    }
   ],
   "source": [
    "(40{(+':)x,0}/1) 20"
   ]
  },
  {
   "cell_type": "markdown",
   "metadata": {},
   "source": [
    "Q16 Power digit sum https://projecteuler.net/problem=16"
   ]
  },
  {
   "cell_type": "code",
   "execution_count": 17,
   "metadata": {},
   "outputs": [
    {
     "data": {
      "text/plain": [
       "1366\n"
      ]
     },
     "execution_count": 17,
     "metadata": {},
     "output_type": "execute_result"
    }
   ],
   "source": [
    "sum 1000 {longCarry 2*x}/enlist 1"
   ]
  },
  {
   "cell_type": "markdown",
   "metadata": {},
   "source": [
    "Q17 Number letter counts https://projecteuler.net/problem=17"
   ]
  },
  {
   "cell_type": "code",
   "execution_count": 18,
   "metadata": {},
   "outputs": [
    {
     "data": {
      "text/plain": [
       "21124\n"
      ]
     },
     "execution_count": 18,
     "metadata": {},
     "output_type": "execute_result"
    }
   ],
   "source": [
    "n:((1+til 13),15,18,(20+10*til 8),1000)!(\"one\";\"two\";\"three\";\"four\";\"five\";\"six\";\"seven\";\"eight\";\"nine\";\"ten\";\"eleven\";\"twelve\";\"thirteen\";\"fifteen\";\"eighteen\";\"twenty\";\"thirty\";\"forty\";\"fifty\";\"sixty\";\"seventy\";\"eighty\";\"ninety\";\"onethousand\")\n",
    "n[14 16 17 19]:n[4 6 7 9],\\:\"teen\"\n",
    "n[(+).'a]:raze each n each a:((20+10*til 8) cross (1+til 9))\n",
    "n[100+100*til 9]:n[1+til 9],\\:\"hundred\"\n",
    "n[(+).'a]:{x,\"and\",y}.'n each a:((100+100*til 9) cross (1+til 99))\n",
    "sum count each value n"
   ]
  },
  {
   "cell_type": "markdown",
   "metadata": {},
   "source": [
    "Q18 Maximum path sum I https://projecteuler.net/problem=18"
   ]
  },
  {
   "cell_type": "code",
   "execution_count": 19,
   "metadata": {},
   "outputs": [
    {
     "data": {
      "text/plain": [
       "1074\n"
      ]
     },
     "execution_count": 19,
     "metadata": {},
     "output_type": "execute_result"
    }
   ],
   "source": [
    "first raze{1<count x}{(-2_x),enlist x[-2+count x]+1_(|':)last x}/(75;95 64;17 47 82;18 35 87 10;20 04 82 47 65;19 01 23 75 03 34;88 02 77 73 07 63 67;99 65 04 28 06 16 70 92;41 41 26 56 83 40 80 70 33;41 48 72 33 47 32 37 16 94 29;53 71 44 65 25 43 91 52 97 51 14;70 11 33 28 77 73 17 78 39 68 17 57;91 71 52 38 17 14 91 43 58 50 27 29 48;63 66 04 68 89 53 67 30 73 16 69 87 40 31;04 62 98 27 23 09 70 98 73 93 38 53 60 04 23)"
   ]
  },
  {
   "cell_type": "markdown",
   "metadata": {},
   "source": [
    "Q19 Counting Sundays https://projecteuler.net/problem=19"
   ]
  },
  {
   "cell_type": "code",
   "execution_count": 20,
   "metadata": {},
   "outputs": [
    {
     "data": {
      "text/plain": [
       "171i\n"
      ]
     },
     "execution_count": 20,
     "metadata": {},
     "output_type": "execute_result"
    }
   ],
   "source": [
    "sum 1=mod[;7]period where {string[x] like \"*01\"} period:start+til 2001.01.01-start:1901.01.01"
   ]
  },
  {
   "cell_type": "markdown",
   "metadata": {},
   "source": [
    "Q20 Factorial digit sum https://projecteuler.net/problem=20"
   ]
  },
  {
   "cell_type": "code",
   "execution_count": 21,
   "metadata": {},
   "outputs": [
    {
     "data": {
      "text/plain": [
       "648\n"
      ]
     },
     "execution_count": 21,
     "metadata": {},
     "output_type": "execute_result"
    }
   ],
   "source": [
    "sum 99 {longCarry x*a::a+1}/enlist a:1"
   ]
  },
  {
   "cell_type": "markdown",
   "metadata": {},
   "source": [
    "Q21 Amicable numbers https://projecteuler.net/problem=21"
   ]
  },
  {
   "cell_type": "code",
   "execution_count": 22,
   "metadata": {},
   "outputs": [
    {
     "data": {
      "text/plain": [
       "31626\n"
      ]
     },
     "execution_count": 22,
     "metadata": {},
     "output_type": "execute_result"
    }
   ],
   "source": [
    "sum where (b=til 10000) and a<>b:sum each divisors each a:sum each divisors each til 10000"
   ]
  },
  {
   "cell_type": "markdown",
   "metadata": {},
   "source": [
    "Q22 Names scores https://projecteuler.net/problem=22"
   ]
  },
  {
   "cell_type": "code",
   "execution_count": 23,
   "metadata": {},
   "outputs": [
    {
     "name": "stderr",
     "output_type": "stream",
     "text": [
      "  % Total    % Received % Xferd  Average Speed   Time    Time     Time  Current\n",
      "                                 Dload  Upload   Total   Spent    Left  Speed\n",
      "100 46447  100 46447    0     0      0      0 --:--:-- --:--:-- --:--:--     0  0      0      0 --:--:-- --:--:-- --:--:--     0    0     0  63107      0 --:--:-- --:--:-- --:--:-- 63107\n"
     ]
    },
    {
     "data": {
      "text/plain": [
       "871198282\n"
      ]
     },
     "execution_count": 23,
     "metadata": {},
     "output_type": "execute_result"
    }
   ],
   "source": [
    "sum (1+til count a)*sum each(.Q.A!1+til 26)asc a:\",\"vs first system\"curl https://projecteuler.net/project/resources/p022_names.txt\""
   ]
  },
  {
   "cell_type": "markdown",
   "metadata": {},
   "source": [
    "Q23 Non-abundant sums https://projecteuler.net/problem=23"
   ]
  },
  {
   "cell_type": "code",
   "execution_count": 24,
   "metadata": {},
   "outputs": [
    {
     "data": {
      "text/plain": [
       "4179871\n"
      ]
     },
     "execution_count": 24,
     "metadata": {},
     "output_type": "execute_result"
    }
   ],
   "source": [
    "sum 1+where not (1+til 28123) in(+).'a cross a:1+where 0<abundance each 1+til 28123"
   ]
  },
  {
   "cell_type": "markdown",
   "metadata": {},
   "source": [
    "Q24 Lexicographic permutations https://projecteuler.net/problem=24"
   ]
  },
  {
   "cell_type": "code",
   "execution_count": 25,
   "metadata": {},
   "outputs": [
    {
     "name": "stdout",
     "output_type": "stream",
     "text": [
      "2 7 8 3 9 1 5 4 6 0\n"
     ]
    },
    {
     "data": {
      "text/plain": [
       "53802 7290390864\n"
      ]
     },
     "execution_count": 25,
     "metadata": {},
     "output_type": "execute_result"
    }
   ],
   "source": [
    "\\ts 0N!(9 {a where{count[x]=count distinct x} each a:x cross til 10}/til 10) 1000000-1"
   ]
  },
  {
   "cell_type": "markdown",
   "metadata": {},
   "source": [
    "Q25 1000-digit Fibonacci number https://projecteuler.net/problem=25"
   ]
  },
  {
   "cell_type": "code",
   "execution_count": 26,
   "metadata": {},
   "outputs": [
    {
     "data": {
      "text/plain": [
       "4782\n"
      ]
     },
     "execution_count": 26,
     "metadata": {},
     "output_type": "execute_result"
    }
   ],
   "source": [
    "count {1000>count last x}{-2#(last x;longCarry {(+). $[not(=). count each x;(0,x[0];x[1]);x]} x)}\\(0;1)"
   ]
  },
  {
   "cell_type": "markdown",
   "metadata": {},
   "source": [
    "Q26 Reciprocal cycles https://projecteuler.net/problem=26"
   ]
  },
  {
   "cell_type": "code",
   "execution_count": 27,
   "metadata": {},
   "outputs": [
    {
     "data": {
      "text/plain": [
       "983\n"
      ]
     },
     "execution_count": 27,
     "metadata": {},
     "output_type": "execute_result"
    }
   ],
   "source": [
    "a r?max r:{count {all not last[x] in -1_x}{x,enlist (floor a%y;mod[;y]a:10*last last x)}[;x]/enlist(0 1)} each a:where isPrime each til 1000\n",
    "\n",
    "/similar without isPrime\n",
    "/r?max r:{count {all not last[x] in -1_x}{x,enlist (floor a%y;mod[;y]a:10*last last x)}[;x]/enlist(0 1)} each til 1000"
   ]
  },
  {
   "cell_type": "markdown",
   "metadata": {},
   "source": [
    "Q27 Quadratic primes https://projecteuler.net/problem=27"
   ]
  },
  {
   "cell_type": "code",
   "execution_count": 28,
   "metadata": {},
   "outputs": [
    {
     "data": {
      "text/plain": [
       "-59231\n"
      ]
     },
     "execution_count": 28,
     "metadata": {},
     "output_type": "execute_result"
    }
   ],
   "source": [
    "prd a b?max b:{{isPrime \"j\"$xexp[x;2]+(y*x)+z}[;x;y]{x+1}/0} .' a:(-1000+til 2001)cross where isPrime each til 1000"
   ]
  },
  {
   "cell_type": "markdown",
   "metadata": {},
   "source": [
    "Q28 Number spiral diagonals https://projecteuler.net/problem=28"
   ]
  },
  {
   "cell_type": "code",
   "execution_count": 29,
   "metadata": {},
   "outputs": [
    {
     "data": {
      "text/plain": [
       "664662001\n"
      ]
     },
     "execution_count": 29,
     "metadata": {},
     "output_type": "execute_result"
    }
   ],
   "source": [
    "\"j\"$sum 1,4*xexp[3+2*til 500;2]-12*1+til 500"
   ]
  },
  {
   "cell_type": "markdown",
   "metadata": {},
   "source": [
    "Q29 Distinct powers https://projecteuler.net/problem=29"
   ]
  },
  {
   "cell_type": "code",
   "execution_count": 30,
   "metadata": {},
   "outputs": [
    {
     "data": {
      "text/plain": [
       "9183\n"
      ]
     },
     "execution_count": 30,
     "metadata": {},
     "output_type": "execute_result"
    }
   ],
   "source": [
    "count distinct raze a {asc raze x#enlist primeFactors y}/:\\:a:1_1+til 100"
   ]
  },
  {
   "cell_type": "markdown",
   "metadata": {},
   "source": [
    "Q30 Digit fifth powers https://projecteuler.net/problem=30"
   ]
  },
  {
   "cell_type": "code",
   "execution_count": 31,
   "metadata": {},
   "outputs": [
    {
     "data": {
      "text/plain": [
       "443839\n"
      ]
     },
     "execution_count": 31,
     "metadata": {},
     "output_type": "execute_result"
    }
   ],
   "source": [
    "sum 2_where{x=sum xexp[;5]\"J\"$a:enlist each string x} each til 1000000"
   ]
  },
  {
   "cell_type": "markdown",
   "metadata": {},
   "source": [
    "Q31 Coin sums https://projecteuler.net/problem=31"
   ]
  },
  {
   "cell_type": "code",
   "execution_count": 32,
   "metadata": {
    "scrolled": true
   },
   "outputs": [
    {
     "data": {
      "text/plain": [
       "73682\n"
      ]
     },
     "execution_count": 32,
     "metadata": {},
     "output_type": "execute_result"
    }
   ],
   "source": [
    "1+count {(b where {x[0]<=x[1]} each b:a cross x where 200>sum each x),x where 200=sum each x}/[a:1 2 5 10 20 50 100]"
   ]
  },
  {
   "cell_type": "markdown",
   "metadata": {},
   "source": [
    "Q32 Pandigital products https://projecteuler.net/problem=32"
   ]
  },
  {
   "cell_type": "code",
   "execution_count": 33,
   "metadata": {},
   "outputs": [
    {
     "data": {
      "text/plain": [
       "45228\n"
      ]
     },
     "execution_count": 33,
     "metadata": {},
     "output_type": "execute_result"
    }
   ],
   "source": [
    "sum distinct b where {(9=count distinct x)and(9=count x)and not \"0\" in x} each raze each string a,'b:(*).'a:((10+til 90) cross 100+til 900),(2+til 9) cross 1000+til 9000"
   ]
  },
  {
   "cell_type": "markdown",
   "metadata": {},
   "source": [
    "Q33 Digit cancelling fractions https://projecteuler.net/problem=33"
   ]
  },
  {
   "cell_type": "code",
   "execution_count": 34,
   "metadata": {},
   "outputs": [
    {
     "data": {
      "text/plain": [
       "100f\n"
      ]
     },
     "execution_count": 34,
     "metadata": {},
     "output_type": "execute_result"
    }
   ],
   "source": [
    "{%[y;x]}. prd each flip a@:where{%[x;y]=%[\"I\"$string[x]0;\"I\"$string[y]1]}.'a@:where {x[1]=y[0]}.'string a@:where {x<y}.'a:a cross a where 0<mod[;10]a:11+til 89"
   ]
  },
  {
   "cell_type": "markdown",
   "metadata": {},
   "source": [
    "Q34 Digit factorials https://projecteuler.net/problem=34"
   ]
  },
  {
   "cell_type": "code",
   "execution_count": 35,
   "metadata": {},
   "outputs": [
    {
     "data": {
      "text/plain": [
       "40730\n"
      ]
     },
     "execution_count": 35,
     "metadata": {},
     "output_type": "execute_result"
    }
   ],
   "source": [
    "sum 3+where {x=sum prd each 1+til each \"I\"$ raze each string x} each 3+til 200000"
   ]
  },
  {
   "cell_type": "markdown",
   "metadata": {},
   "source": [
    "Q35 Circular primes https://projecteuler.net/problem=35"
   ]
  },
  {
   "cell_type": "code",
   "execution_count": 36,
   "metadata": {
    "scrolled": true
   },
   "outputs": [
    {
     "data": {
      "text/plain": [
       "55\n"
      ]
     },
     "execution_count": 36,
     "metadata": {},
     "output_type": "execute_result"
    }
   ],
   "source": [
    "count a where all each in[;string a]{(-1+count x){1_x,x[0]}\\x} each string a@:where isPrime each a:2,5,where not any each \"024568\" in/:string til 1000000"
   ]
  },
  {
   "cell_type": "markdown",
   "metadata": {},
   "source": [
    "Q36 Double-base palindromes https://projecteuler.net/problem=36"
   ]
  },
  {
   "cell_type": "code",
   "execution_count": 37,
   "metadata": {},
   "outputs": [
    {
     "data": {
      "text/plain": [
       "872187\n"
      ]
     },
     "execution_count": 37,
     "metadata": {},
     "output_type": "execute_result"
    }
   ],
   "source": [
    "sum a where {a~reverse max[a]-a:xlog[2;]2_(-':)reverse{x-\"j\"$xexp[2;]floor xlog[2;x]}\\[x]} each a:where {x~reverse x} each string til 1000000"
   ]
  },
  {
   "cell_type": "markdown",
   "metadata": {},
   "source": [
    "Q37 Truncatable primes https://projecteuler.net/problem=37"
   ]
  },
  {
   "cell_type": "code",
   "execution_count": 38,
   "metadata": {},
   "outputs": [
    {
     "data": {
      "text/plain": [
       "748317\n"
      ]
     },
     "execution_count": 38,
     "metadata": {},
     "output_type": "execute_result"
    }
   ],
   "source": [
    "isTrunc:{$[any \"0468\" in string x;0b;isPrime x;(2*a-1)=sum isPrime each \"J\"$(neg[a-1]+til -1+2*a:count x)#\\:x:string x;0b]}\n",
    "sum 1_11{{not isTrunc x}{x+2}/x+2}\\7"
   ]
  },
  {
   "cell_type": "markdown",
   "metadata": {},
   "source": [
    "Q38 Pandigital multiples https://projecteuler.net/problem=38"
   ]
  },
  {
   "cell_type": "code",
   "execution_count": 39,
   "metadata": {},
   "outputs": [
    {
     "data": {
      "text/plain": [
       "\"932718654\"\n"
      ]
     },
     "execution_count": 39,
     "metadata": {},
     "output_type": "execute_result"
    }
   ],
   "source": [
    "last asc a where \"123456789\"~/:asc each a:{raze string {9>count raze string x}{x,(first[x]+last[x])}/enlist x} each til 10000"
   ]
  },
  {
   "cell_type": "markdown",
   "metadata": {},
   "source": [
    "Q39 Integer right triangles https://projecteuler.net/problem=39"
   ]
  },
  {
   "cell_type": "code",
   "execution_count": 40,
   "metadata": {},
   "outputs": [
    {
     "data": {
      "text/plain": [
       "840\n"
      ]
     },
     "execution_count": 40,
     "metadata": {},
     "output_type": "execute_result"
    }
   ],
   "source": [
    "c?max c:{count a where {z=x+y}.'xexp[;2]a,'x-(+).'a:(1+til a)cross 1+a+til floor[x%2]-a:floor x%2+sqrt 2}each til 1000"
   ]
  },
  {
   "cell_type": "markdown",
   "metadata": {},
   "source": [
    "Q40 Champernowne's constant https://projecteuler.net/problem=40"
   ]
  },
  {
   "cell_type": "code",
   "execution_count": 41,
   "metadata": {},
   "outputs": [
    {
     "data": {
      "text/plain": [
       "210\n"
      ]
     },
     "execution_count": 41,
     "metadata": {},
     "output_type": "execute_result"
    }
   ],
   "source": [
    "prd\"J\"$'raze[string til 200000]\"j\"$10 xexp til 7"
   ]
  },
  {
   "cell_type": "markdown",
   "metadata": {},
   "source": [
    "Q41 Pandigital prime https://projecteuler.net/problem=41"
   ]
  },
  {
   "cell_type": "code",
   "execution_count": 42,
   "metadata": {},
   "outputs": [
    {
     "data": {
      "text/plain": [
       "7652413\n"
      ]
     },
     "execution_count": 42,
     "metadata": {},
     "output_type": "execute_result"
    }
   ],
   "source": [
    "first a where isPrime each a:reverse {\"J\"$raze string x} each a where not {last x in 2 4 5 6 8} each a:raze 7 permutations\\enlist 1"
   ]
  },
  {
   "cell_type": "markdown",
   "metadata": {},
   "source": [
    "Q42 Coded triangle numbers https://projecteuler.net/problem=42"
   ]
  },
  {
   "cell_type": "code",
   "execution_count": 43,
   "metadata": {},
   "outputs": [
    {
     "name": "stderr",
     "output_type": "stream",
     "text": [
      "  % Total    % Received % Xferd  Average Speed   Time    Time     Time  Current\n",
      "                                 Dload  Upload   Total   Spent    Left  Speed\n",
      "100 16345  100 16345    0     0      0      0 --:--:-- --:--:-- --:--:--     0 0     0  31986      0 --:--:-- --:--:-- --:--:-- 31986\n"
     ]
    },
    {
     "data": {
      "text/plain": [
       "162i\n"
      ]
     },
     "execution_count": 43,
     "metadata": {},
     "output_type": "execute_result"
    }
   ],
   "source": [
    "sum a in b:{\"i\"$0.5*x*x+1} each 1+til 2*ceiling sqrt max a:sum each (.Q.A!1+til 26) each \",\"vs first system\"curl https://projecteuler.net/project/resources/p042_words.txt\""
   ]
  },
  {
   "cell_type": "markdown",
   "metadata": {},
   "source": [
    "Q43 Sub-string divisibility https://projecteuler.net/problem=43"
   ]
  },
  {
   "cell_type": "code",
   "execution_count": 44,
   "metadata": {},
   "outputs": [
    {
     "data": {
      "text/plain": [
       "16695334890\n"
      ]
     },
     "execution_count": 44,
     "metadata": {},
     "output_type": "execute_result"
    }
   ],
   "source": [
    "/fastest way:\n",
    "sum \"J\"$raze each string each 7 {x where{0=mod[\"J\"$raze string x[-3+count[x]+til 3];y[-4+count x]]}[;y] each x@:where {count[x]=count distinct x} each x:x cross til 10}[;2 3 5 7 11 13 17]/cross[1+til 9]a cross a:til 10\n",
    "\n",
    "/another method:\n",
    "/a:neg[1];sum \"J\"$raze each string 7{a::a+1;x where 0=mod[;a nextPrime/2]\"J\"$raze each string x[;1+a+til 3]}/-1+9 permutations/enlist 1"
   ]
  }
 ],
 "metadata": {
  "kernelspec": {
   "display_name": "Q (kdb+)",
   "language": "q",
   "name": "qpk"
  },
  "language_info": {
   "file_extension": ".q",
   "mimetype": "text/x-q",
   "name": "q",
   "version": "4.0"
  }
 },
 "nbformat": 4,
 "nbformat_minor": 4
}
